{
 "cells": [
  {
   "cell_type": "markdown",
   "metadata": {},
   "source": [
    "Tony Tran - MSDS 432 Fall 2019 - Assignment 1\n",
    "\n",
    "<h2>Overview</h2>\n",
    "In assignment 1, we are asked to create multiple arrays and apply different algorithms to the arrays to see how they perform. 5 different arrays of random numbers will be created with sizes 512, 1024, 2048, 4096, and 8192. The algorithms that we will be testing are the sort, linear search, binary search, linear search sorted, and binary search sorted. Performance will be measured by the time it takes to execute the algorithm on the arrays of various lengths. Ideally, we want algorithms to execute will the lowest time and scale by having a low execution time even if the data set increases. \n",
    "\n",
    "<h3>References</h3>\n",
    "<li>https://www.geeksforgeeks.org/linear-search/</li>\n",
    "<li>https://www.geeksforgeeks.org/binary-search/</li>\n",
    "<li>https://hackernoon.com/timsort-the-fastest-sorting-algorithm-youve-never-heard-of-36b28417f399</li>\n",
    "<li>https://www.takeupcode.com/podcast/38-big-o-notation-how-fast-can-you-go/</li>\n",
    "\n",
    "<h3>Initial Set Up</h3>\n",
    "<li>Set up five arrays of random numbers of different sizes i.e. 512 numbers, 1024 numbers, 2048 numbers, 4096 numbers, and 8192 numbers using a uniform random number generator.</li> \n",
    "<li>Ensure that a common random number seed is used to generate each of the arrays. Use the generator below to select your random number.</li>\n",
    "<li>Set up data dictionary for table later</li>\n",
    "<li>Set up function for binary search</li>\n",
    "<li>Set up function for linear search</li>"
   ]
  },
  {
   "cell_type": "code",
   "execution_count": 48,
   "metadata": {},
   "outputs": [],
   "source": [
    "#Import packages\n",
    "import numpy as np\n",
    "import pandas as pd\n",
    "from timeit import default_timer as timer\n",
    "import seaborn as sns\n",
    "\n",
    "#Set up random seed\n",
    "np.random.seed(284)\n",
    "\n",
    "#set up arrays and assign to variables\n",
    "rand_512 = np.random.randint(1,1000,512)\n",
    "rand_1024 = np.random.randint(1,1000,1024)\n",
    "rand_2048 = np.random.randint(1,1000,2048)\n",
    "rand_4096 = np.random.randint(1,1000,4096)\n",
    "rand_8192 = np.random.randint(1,1000,8192)\n",
    "\n",
    "#Add each array into a dict\n",
    "array_dict = {512:rand_512, 1024: rand_1024, 2048:rand_2048, 4096:rand_4096, \\\n",
    "              8192:rand_8192}\n",
    "\n",
    "#set up dict with times\n",
    "data = {'Length':[],\n",
    "       'Sort_Time':[],\n",
    "       'Linear_Search_Time':[],\n",
    "       'Binary_Search_Time':[],\n",
    "       'Linear_Search_Plus_Sort_Time':[],\n",
    "       'Binary_Search_Plus_Sort_Time':[]}\n",
    "\n",
    "'''\n",
    "Binary Search - Identify the middle value of the array, if it is higher then\n",
    "use the second half of the array otherwise use the bottom half. Keep repeating\n",
    "this until you find the value. This reduces the number of elements you have to\n",
    "search through to find the value. An option to sort array is included.\n",
    "'''\n",
    "\n",
    "def binary_search(list, item, sort = False):\n",
    "    if sort:\n",
    "        list.sort()\n",
    "    #low and high keep track of which part of the list you'll search in.\n",
    "    low = 0\n",
    "    high = len(list) - 1\n",
    "\n",
    "    # While you haven't narrowed it down to one element ...\n",
    "    while low <= high:\n",
    "    # ... check the middle element\n",
    "        mid = (low + high) // 2\n",
    "        guess = list[mid]\n",
    "    # Found the item.\n",
    "        if guess == item:\n",
    "            return mid\n",
    "    # The guess was too high.\n",
    "        if guess > item:\n",
    "            high = mid - 1\n",
    "    # The guess was too low.\n",
    "        else:\n",
    "            low = mid + 1\n",
    "\n",
    "  # Item doesn't exist\n",
    "    return None\n",
    "\n",
    "\n",
    "'''\n",
    "Linear Search - search through each item in the array for the variable one by \n",
    "one sequentially from the first element to the end until you find it. An \n",
    "option to sort array is included.\n",
    "'''\n",
    "\n",
    "def linear_search(arr, n, x, sort = False): \n",
    "    #arr = array name\n",
    "    #n = length of array\n",
    "    #x = value to search for\n",
    "    if sort:\n",
    "        arr.sort()\n",
    "    for i in range (0, n): \n",
    "        if (arr[i] == x): \n",
    "            return i \n",
    "    return -1"
   ]
  },
  {
   "cell_type": "code",
   "execution_count": 49,
   "metadata": {},
   "outputs": [],
   "source": [
    "'''\n",
    "Use for loop to append length of each array and time to execute each \n",
    "algorithm into the dictionary \"data\"\n",
    "'''\n",
    "for k, v in array_dict.items():\n",
    "    #append each array length to dict\n",
    "    data['Length'].append(len(v))\n",
    "    \n",
    "    #time sorting of each array and append to dict\n",
    "    start = timer()\n",
    "    v.sort()\n",
    "    end = timer()\n",
    "    data['Sort_Time'].append(round((end-start)*1000,2))\n",
    "    \n",
    "    #unsorted linear search\n",
    "    start = timer()\n",
    "    linear_search(v,len(v),max(v))\n",
    "    end = timer()\n",
    "    data['Linear_Search_Time'].append(round((end-start)*1000,2))\n",
    "    \n",
    "    #unsorted binary search\n",
    "    start = timer()\n",
    "    binary_search(v,max(v))\n",
    "    end = timer()\n",
    "    data['Binary_Search_Time'].append(round((end-start)*1000,2))\n",
    "    \n",
    "    #sorted linear search\n",
    "    start = timer()\n",
    "    linear_search(v,len(v),max(v),sort=True)\n",
    "    end = timer()\n",
    "    data['Linear_Search_Plus_Sort_Time'].append(round((end-start)*1000,2))\n",
    "    \n",
    "    #sorted binary search\n",
    "    start = timer()\n",
    "    binary_search(v,max(v),sort=True)\n",
    "    end = timer()\n",
    "    data['Binary_Search_Plus_Sort_Time'].append(round((end-start)*1000,2))"
   ]
  },
  {
   "cell_type": "code",
   "execution_count": 50,
   "metadata": {},
   "outputs": [
    {
     "data": {
      "text/plain": [
       "{'Length': [512, 1024, 2048, 4096, 8192],\n",
       " 'Sort_Time': [0.17, 0.16, 0.1, 0.21, 0.41],\n",
       " 'Linear_Search_Time': [0.19, 0.45, 0.65, 1.32, 2.51],\n",
       " 'Binary_Search_Time': [0.06, 0.16, 0.24, 0.48, 0.92],\n",
       " 'Linear_Search_Plus_Sort_Time': [0.18, 0.35, 0.71, 1.32, 2.44],\n",
       " 'Binary_Search_Plus_Sort_Time': [0.07, 0.15, 0.26, 0.61, 1.02]}"
      ]
     },
     "execution_count": 50,
     "metadata": {},
     "output_type": "execute_result"
    }
   ],
   "source": [
    "#preview data\n",
    "data"
   ]
  },
  {
   "cell_type": "code",
   "execution_count": 51,
   "metadata": {},
   "outputs": [
    {
     "data": {
      "text/html": [
       "<div>\n",
       "<style scoped>\n",
       "    .dataframe tbody tr th:only-of-type {\n",
       "        vertical-align: middle;\n",
       "    }\n",
       "\n",
       "    .dataframe tbody tr th {\n",
       "        vertical-align: top;\n",
       "    }\n",
       "\n",
       "    .dataframe thead th {\n",
       "        text-align: right;\n",
       "    }\n",
       "</style>\n",
       "<table border=\"1\" class=\"dataframe\">\n",
       "  <thead>\n",
       "    <tr style=\"text-align: right;\">\n",
       "      <th></th>\n",
       "      <th>Length</th>\n",
       "      <th>Sort_Time</th>\n",
       "      <th>Linear_Search_Time</th>\n",
       "      <th>Binary_Search_Time</th>\n",
       "      <th>Linear_Search_Plus_Sort_Time</th>\n",
       "      <th>Binary_Search_Plus_Sort_Time</th>\n",
       "    </tr>\n",
       "  </thead>\n",
       "  <tbody>\n",
       "    <tr>\n",
       "      <th>0</th>\n",
       "      <td>512</td>\n",
       "      <td>0.17</td>\n",
       "      <td>0.19</td>\n",
       "      <td>0.06</td>\n",
       "      <td>0.18</td>\n",
       "      <td>0.07</td>\n",
       "    </tr>\n",
       "    <tr>\n",
       "      <th>1</th>\n",
       "      <td>1024</td>\n",
       "      <td>0.16</td>\n",
       "      <td>0.45</td>\n",
       "      <td>0.16</td>\n",
       "      <td>0.35</td>\n",
       "      <td>0.15</td>\n",
       "    </tr>\n",
       "    <tr>\n",
       "      <th>2</th>\n",
       "      <td>2048</td>\n",
       "      <td>0.10</td>\n",
       "      <td>0.65</td>\n",
       "      <td>0.24</td>\n",
       "      <td>0.71</td>\n",
       "      <td>0.26</td>\n",
       "    </tr>\n",
       "    <tr>\n",
       "      <th>3</th>\n",
       "      <td>4096</td>\n",
       "      <td>0.21</td>\n",
       "      <td>1.32</td>\n",
       "      <td>0.48</td>\n",
       "      <td>1.32</td>\n",
       "      <td>0.61</td>\n",
       "    </tr>\n",
       "    <tr>\n",
       "      <th>4</th>\n",
       "      <td>8192</td>\n",
       "      <td>0.41</td>\n",
       "      <td>2.51</td>\n",
       "      <td>0.92</td>\n",
       "      <td>2.44</td>\n",
       "      <td>1.02</td>\n",
       "    </tr>\n",
       "  </tbody>\n",
       "</table>\n",
       "</div>"
      ],
      "text/plain": [
       "   Length  Sort_Time  Linear_Search_Time  Binary_Search_Time  \\\n",
       "0     512       0.17                0.19                0.06   \n",
       "1    1024       0.16                0.45                0.16   \n",
       "2    2048       0.10                0.65                0.24   \n",
       "3    4096       0.21                1.32                0.48   \n",
       "4    8192       0.41                2.51                0.92   \n",
       "\n",
       "   Linear_Search_Plus_Sort_Time  Binary_Search_Plus_Sort_Time  \n",
       "0                          0.18                          0.07  \n",
       "1                          0.35                          0.15  \n",
       "2                          0.71                          0.26  \n",
       "3                          1.32                          0.61  \n",
       "4                          2.44                          1.02  "
      ]
     },
     "execution_count": 51,
     "metadata": {},
     "output_type": "execute_result"
    }
   ],
   "source": [
    "#convert dictionary into dataframe\n",
    "df = pd.DataFrame(data, columns = ['Length',\n",
    "                                   'Sort_Time',\n",
    "                                   'Linear_Search_Time',\n",
    "                                   'Binary_Search_Time',\n",
    "                                   'Linear_Search_Plus_Sort_Time',\n",
    "                                   'Binary_Search_Plus_Sort_Time'])\n",
    "df"
   ]
  },
  {
   "cell_type": "code",
   "execution_count": 52,
   "metadata": {},
   "outputs": [
    {
     "data": {
      "text/plain": [
       "Text(0.5, 1.0, 'Array Length by Sort Time')"
      ]
     },
     "execution_count": 52,
     "metadata": {},
     "output_type": "execute_result"
    },
    {
     "data": {
      "image/png": "[encoded data removed]",
      "text/plain": [
       "<Figure size 432x288 with 1 Axes>"
      ]
     },
     "metadata": {
      "needs_background": "light"
     },
     "output_type": "display_data"
    }
   ],
   "source": [
    "#Graph of Sort time\n",
    "ax = sns.barplot(x=\"Length\", y=\"Sort_Time\", data=df)\n",
    "ax.set_title('Array Length by Sort Time')"
   ]
  },
  {
   "cell_type": "code",
   "execution_count": 53,
   "metadata": {},
   "outputs": [
    {
     "data": {
      "text/plain": [
       "Text(0.5, 1.0, 'Array Length by Linear Search Time')"
      ]
     },
     "execution_count": 53,
     "metadata": {},
     "output_type": "execute_result"
    },
    {
     "data": {
      "image/png": "[encoded data removed]",
      "text/plain": [
       "<Figure size 432x288 with 1 Axes>"
      ]
     },
     "metadata": {
      "needs_background": "light"
     },
     "output_type": "display_data"
    }
   ],
   "source": [
    "#Graph of Linear Search time\n",
    "ax = sns.barplot(x=\"Length\", y=\"Linear_Search_Time\", data=df)\n",
    "ax.set_title('Array Length by Linear Search Time')"
   ]
  },
  {
   "cell_type": "code",
   "execution_count": 54,
   "metadata": {},
   "outputs": [
    {
     "data": {
      "text/plain": [
       "Text(0.5, 1.0, 'Array Length by Binary Search Time')"
      ]
     },
     "execution_count": 54,
     "metadata": {},
     "output_type": "execute_result"
    },
    {
     "data": {
      "image/png": "[encoded data removed]",
      "text/plain": [
       "<Figure size 432x288 with 1 Axes>"
      ]
     },
     "metadata": {
      "needs_background": "light"
     },
     "output_type": "display_data"
    }
   ],
   "source": [
    "#Graph of Binary Search time\n",
    "ax = sns.barplot(x=\"Length\", y=\"Binary_Search_Time\", data=df)\n",
    "ax.set_title('Array Length by Binary Search Time')"
   ]
  },
  {
   "cell_type": "code",
   "execution_count": 55,
   "metadata": {},
   "outputs": [
    {
     "data": {
      "text/plain": [
       "Text(0.5, 1.0, 'Array Length by Linear Search Plus Sort Time')"
      ]
     },
     "execution_count": 55,
     "metadata": {},
     "output_type": "execute_result"
    },
    {
     "data": {
      "image/png": "[encoded data removed]",
      "text/plain": [
       "<Figure size 432x288 with 1 Axes>"
      ]
     },
     "metadata": {
      "needs_background": "light"
     },
     "output_type": "display_data"
    }
   ],
   "source": [
    "#Graph of Linear Search Plus Sort Time\n",
    "ax = sns.barplot(x=\"Length\", y=\"Linear_Search_Plus_Sort_Time\", data=df)\n",
    "ax.set_title('Array Length by Linear Search Plus Sort Time')"
   ]
  },
  {
   "cell_type": "code",
   "execution_count": 56,
   "metadata": {},
   "outputs": [
    {
     "data": {
      "text/plain": [
       "Text(0.5, 1.0, 'Array Length by Binary Search Plus Sort Time')"
      ]
     },
     "execution_count": 56,
     "metadata": {},
     "output_type": "execute_result"
    },
    {
     "data": {
      "image/png": "[encoded data removed]",
      "text/plain": [
       "<Figure size 432x288 with 1 Axes>"
      ]
     },
     "metadata": {
      "needs_background": "light"
     },
     "output_type": "display_data"
    }
   ],
   "source": [
    "#Graph of Binary Search Plus Sort Time\n",
    "ax = sns.barplot(x=\"Length\", y=\"Binary_Search_Plus_Sort_Time\", data=df)\n",
    "ax.set_title('Array Length by Binary Search Plus Sort Time')"
   ]
  },
  {
   "cell_type": "markdown",
   "metadata": {},
   "source": [
    "<h3>Executive Summary</h3>\n",
    "\n",
    "Prepare an executive summary of your results, referring to the table and figures you have generated. Explain how your results relate to big O notation. Describe your results in language that management can understand. This summary should be included as comments or text paragraphs in the Jupyter notebook. Explain how the algorithm works and why it is a useful to data engineers.\n",
    "\n",
    "<h4>Sort algorithm</h4>\n",
    "In this exercise, I used the default Python built in sorting function which uses the timsort algorithm and runs in O(n log n) time. As the number of elements increases, the execution time increases significantly. This means it runs a little slower than O(n) but is still sufficiently fast.\n",
    "\n",
    "<h4>Linear search algorithm</h4>\n",
    "Linear search is an algorithm that goes through each item in a data set one by one starting with the first element and moves on to the next element until it finds the value. This algorithm runs in O(n), which means the execution time is dependent on the number of elements in the dataset. The more elements there are, the longer the execution time. If the largest number is at the beginning then the algorithm will find it on the first try. If the value is at the last element of a data set, then it will have to go through every single element until it gets to that value. As can be seen in the chart on linear search, the larger the number of elements in the array, the longer it takes to find the value. \n",
    "\n",
    "<h4>Binary search algorithm</h4>\n",
    "Binary search is an algorithm that requires a data set to be sorted to work. This section tests the algorithm without search. Since it's unsorted, this will take a long execution time. Binary search finds the halfway point and looks for it. If it's not sorted, then the algorithm will keep jumping back and forth. Looking at the bar chart, you can see that the array with 1024 takes longer to find compared to higher arrays probably because the highest value is hidden somewhere in the array so the algorithm is probably jumping all over the place until it finally finds the value.\n",
    "\n",
    "<h4>Linear search with sort algorithm</h4>\n",
    "Sorting actually makes it worse in this case because we are searching for the highest value which is near the end of the array. The algorithm will have to go through every single element until it reaches to end to find the value. \n",
    "\n",
    "<h4>Binary search with sort algorithm</h4>\n",
    "Binary search that's sorted will run in O(log n) which is faster than regular linear search. This is because the algorithm goes through the midway point of a sorted data set and then continues to only search for the data in that half of the data set. In other words, the number of items to search for significantly decreases each time it splits the data set. \n",
    "\n",
    "<h4>Takeaways</h4>\n",
    "If a data set is sorted, then the best algorithm to use is a binary search algorithm because the number of elements do not impact the execution time as much as a linear search does. If the value to search for is the first element, then linear search would've found it faster, but generally this doesn't seem like a common occurrence so it's better to use a binary search. Another key takeaway is that sorting is critical for a binary search algorithm to work. \n",
    "\n"
   ]
  }
 ],
 "metadata": {
  "kernelspec": {
   "display_name": "Python 3",
   "language": "python",
   "name": "python3"
  },
  "language_info": {
   "codemirror_mode": {
    "name": "ipython",
    "version": 3
   },
   "file_extension": ".py",
   "mimetype": "text/x-python",
   "name": "python",
   "nbconvert_exporter": "python",
   "pygments_lexer": "ipython3",
   "version": "3.6.8"
  }
 },
 "nbformat": 4,
 "nbformat_minor": 2
}
